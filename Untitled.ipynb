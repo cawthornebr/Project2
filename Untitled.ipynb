{
 "cells": [
  {
   "cell_type": "code",
   "execution_count": 1,
   "metadata": {},
   "outputs": [],
   "source": [
    "from flask import Flask, jsonify\n",
    "from scipy import stats\n",
    "import numpy as np\n",
    "import pandas as pd\n",
    "import datetime as dt\n",
    "from datetime import datetime\n",
    "from dateutil.relativedelta import relativedelta\n",
    "import sqlalchemy\n",
    "from sqlalchemy.ext.automap import automap_base\n",
    "from sqlalchemy.orm import Session\n",
    "from sqlalchemy import create_engine, inspect, func"
   ]
  },
  {
   "cell_type": "code",
   "execution_count": 23,
   "metadata": {},
   "outputs": [],
   "source": [
    "#################################################\n",
    "# Database Setup\n",
    "#################################################\n",
    "engine = create_engine(\"sqlite:///project1_db.db\")\n",
    "\n",
    "# reflect an existing database into a new model\n",
    "Base = automap_base()\n",
    "# reflect the tables\n",
    "Base.prepare(engine, reflect=True)\n",
    "db_324 = Base.classes.db324\n",
    "db_325 = Base.classes.db325\n",
    "db_326 = Base.classes.db326\n",
    "db_327 = Base.classes.db327\n",
    "db_328 = Base.classes.db328\n",
    "db_329 = Base.classes.db329\n",
    "db_330 = Base.classes.db330\n",
    "db_331 = Base.classes.db331\n",
    "db_401 = Base.classes.db401\n",
    "db_402 = Base.classes.db402\n",
    "db_403 = Base.classes.db403\n",
    "session = Session(engine)\n",
    "#################################################\n",
    "# Flask Setup\n",
    "#################################################\n",
    "app = Flask(__name__)\n"
   ]
  },
  {
   "cell_type": "code",
   "execution_count": 24,
   "metadata": {},
   "outputs": [],
   "source": [
    "master_list = []\n",
    "results = session.query(db_323.Admin2).filter(db_323.Province_State == \"Arizona\")\n",
    "master_list.append(list(session.query(db_324.Confirmed).filter(db_324.Province_State == \"Arizona\")))\n",
    "master_list.append(list(session.query(db_325.Confirmed).filter(db_325.Province_State == \"Arizona\")))\n",
    "master_list.append(list(session.query(db_326.Confirmed).filter(db_326.Province_State == \"Arizona\")))\n",
    "master_list.append(list(session.query(db_327.Confirmed).filter(db_327.Province_State == \"Arizona\")))\n",
    "master_list.append(list(session.query(db_328.Confirmed).filter(db_328.Province_State == \"Arizona\")))\n",
    "master_list.append(list(session.query(db_329.Confirmed).filter(db_329.Province_State == \"Arizona\")))\n",
    "master_list.append(list(session.query(db_330.Confirmed).filter(db_330.Province_State == \"Arizona\")))\n",
    "master_list.append(list(session.query(db_331.Confirmed).filter(db_331.Province_State == \"Arizona\")))\n",
    "master_list.append(list(session.query(db_401.Confirmed).filter(db_401.Province_State == \"Arizona\")))\n",
    "master_list.append(list(session.query(db_402.Confirmed).filter(db_402.Province_State == \"Arizona\")))\n",
    "master_list.append(list(session.query(db_403.Confirmed).filter(db_403.Province_State == \"Arizona\")))\n",
    "# county_names = list(results)\n",
    "# county_names\n",
    "# list(results1)"
   ]
  },
  {
   "cell_type": "code",
   "execution_count": null,
   "metadata": {},
   "outputs": [],
   "source": []
  },
  {
   "cell_type": "code",
   "execution_count": null,
   "metadata": {},
   "outputs": [],
   "source": []
  },
  {
   "cell_type": "code",
   "execution_count": null,
   "metadata": {},
   "outputs": [],
   "source": []
  },
  {
   "cell_type": "code",
   "execution_count": null,
   "metadata": {},
   "outputs": [],
   "source": []
  }
 ],
 "metadata": {
  "kernelspec": {
   "display_name": "Python 3",
   "language": "python",
   "name": "python3"
  },
  "language_info": {
   "codemirror_mode": {
    "name": "ipython",
    "version": 3
   },
   "file_extension": ".py",
   "mimetype": "text/x-python",
   "name": "python",
   "nbconvert_exporter": "python",
   "pygments_lexer": "ipython3",
   "version": "3.7.4"
  }
 },
 "nbformat": 4,
 "nbformat_minor": 2
}
